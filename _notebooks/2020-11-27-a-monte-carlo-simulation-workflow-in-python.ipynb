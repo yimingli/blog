{
 "cells": [
  {
   "cell_type": "markdown",
   "metadata": {},
   "source": [
    "# \"A Monte Carlo Simulation Workflow in Python\"\n",
    "> \"Keep parameters, simulated datasets, summary stats, and models in one place.\"\n",
    "\n",
    "- toc: true\n",
    "- branch: master\n",
    "- badges: true\n",
    "- comments: true\n",
    "- categories: [python, simulation, workflow]\n",
    "<!-- - image: images/test.png -->\n",
    "- hide: false"
   ]
  },
  {
   "cell_type": "markdown",
   "metadata": {},
   "source": [
    "## Introduction\n",
    "\n",
    "This is a workflow for Monte Carlo Simulation in Python, using a dataframe to track the parameters, simulated dataset, and summary statistics / model fitting. For multi-core machines, we can try to speed up using parallel computation.\n",
    "\n",
    "This workflow is inspired by R's `purrr` package and the notion of [list-columns](https://jennybc.github.io/purrr-tutorial/ls13_list-columns.html). I also benefited from Alex Hayes' [great note on many models workflow in python](https://www.alexpghayes.com/blog/many-models-workflows-in-python-part-i/).\n",
    "\n",
    "**Running example in this note**:\n",
    "\n",
    "1. Simulate many datasets from each of the 9 normal distributions, with 3 different centers and 3 different scales.\n",
    "2. Calculate the sample statistics for each of the simulated datasets.\n",
    "3. Put everything in a dataframe.\n",
    "\n",
    "**The workflow consists of 4 steps**:\n",
    "\n",
    "1. Set the model parameters\n",
    "2. Simulate datasets according to the parameters\n",
    "3. Do stuff with the simulated datasets, e.g., calculate sample statistics, fit models.\n",
    "4. Collect steps 1--3 in a dataframe. The main benefit of keeping everything in a dataframe is for later analysis and visualization of the Monte Carlo simulation."
   ]
  },
  {
   "cell_type": "code",
   "execution_count": 1,
   "metadata": {},
   "outputs": [
    {
     "name": "stdout",
     "output_type": "stream",
     "text": [
      "3.7.8\n"
     ]
    }
   ],
   "source": [
    "from platform import python_version\n",
    "\n",
    "print(python_version())"
   ]
  },
  {
   "cell_type": "code",
   "execution_count": 2,
   "metadata": {},
   "outputs": [],
   "source": [
    "import concurrent.futures\n",
    "from itertools import product\n",
    "from typing import Dict, List, Union\n",
    "\n",
    "import numpy as np\n",
    "import pandas as pd"
   ]
  },
  {
   "cell_type": "code",
   "execution_count": 3,
   "metadata": {},
   "outputs": [
    {
     "data": {
      "text/plain": [
       "16"
      ]
     },
     "execution_count": 3,
     "metadata": {},
     "output_type": "execute_result"
    }
   ],
   "source": [
    "import psutil\n",
    "\n",
    "n_cores = psutil.cpu_count()\n",
    "n_cores"
   ]
  },
  {
   "cell_type": "markdown",
   "metadata": {},
   "source": [
    "## Set model parameters"
   ]
  },
  {
   "cell_type": "code",
   "execution_count": 4,
   "metadata": {},
   "outputs": [
    {
     "data": {
      "text/html": [
       "<div>\n",
       "<style scoped>\n",
       "    .dataframe tbody tr th:only-of-type {\n",
       "        vertical-align: middle;\n",
       "    }\n",
       "\n",
       "    .dataframe tbody tr th {\n",
       "        vertical-align: top;\n",
       "    }\n",
       "\n",
       "    .dataframe thead th {\n",
       "        text-align: right;\n",
       "    }\n",
       "</style>\n",
       "<table border=\"1\" class=\"dataframe\">\n",
       "  <thead>\n",
       "    <tr style=\"text-align: right;\">\n",
       "      <th></th>\n",
       "      <th>loc</th>\n",
       "      <th>scale</th>\n",
       "      <th>rep</th>\n",
       "      <th>size</th>\n",
       "    </tr>\n",
       "  </thead>\n",
       "  <tbody>\n",
       "    <tr>\n",
       "      <th>0</th>\n",
       "      <td>0</td>\n",
       "      <td>1</td>\n",
       "      <td>0</td>\n",
       "      <td>10000</td>\n",
       "    </tr>\n",
       "    <tr>\n",
       "      <th>1</th>\n",
       "      <td>0</td>\n",
       "      <td>1</td>\n",
       "      <td>1</td>\n",
       "      <td>10000</td>\n",
       "    </tr>\n",
       "    <tr>\n",
       "      <th>2</th>\n",
       "      <td>0</td>\n",
       "      <td>1</td>\n",
       "      <td>2</td>\n",
       "      <td>10000</td>\n",
       "    </tr>\n",
       "    <tr>\n",
       "      <th>3</th>\n",
       "      <td>0</td>\n",
       "      <td>1</td>\n",
       "      <td>3</td>\n",
       "      <td>10000</td>\n",
       "    </tr>\n",
       "    <tr>\n",
       "      <th>4</th>\n",
       "      <td>0</td>\n",
       "      <td>1</td>\n",
       "      <td>4</td>\n",
       "      <td>10000</td>\n",
       "    </tr>\n",
       "    <tr>\n",
       "      <th>...</th>\n",
       "      <td>...</td>\n",
       "      <td>...</td>\n",
       "      <td>...</td>\n",
       "      <td>...</td>\n",
       "    </tr>\n",
       "    <tr>\n",
       "      <th>8995</th>\n",
       "      <td>2</td>\n",
       "      <td>3</td>\n",
       "      <td>995</td>\n",
       "      <td>10000</td>\n",
       "    </tr>\n",
       "    <tr>\n",
       "      <th>8996</th>\n",
       "      <td>2</td>\n",
       "      <td>3</td>\n",
       "      <td>996</td>\n",
       "      <td>10000</td>\n",
       "    </tr>\n",
       "    <tr>\n",
       "      <th>8997</th>\n",
       "      <td>2</td>\n",
       "      <td>3</td>\n",
       "      <td>997</td>\n",
       "      <td>10000</td>\n",
       "    </tr>\n",
       "    <tr>\n",
       "      <th>8998</th>\n",
       "      <td>2</td>\n",
       "      <td>3</td>\n",
       "      <td>998</td>\n",
       "      <td>10000</td>\n",
       "    </tr>\n",
       "    <tr>\n",
       "      <th>8999</th>\n",
       "      <td>2</td>\n",
       "      <td>3</td>\n",
       "      <td>999</td>\n",
       "      <td>10000</td>\n",
       "    </tr>\n",
       "  </tbody>\n",
       "</table>\n",
       "<p>9000 rows × 4 columns</p>\n",
       "</div>"
      ],
      "text/plain": [
       "      loc  scale  rep   size\n",
       "0       0      1    0  10000\n",
       "1       0      1    1  10000\n",
       "2       0      1    2  10000\n",
       "3       0      1    3  10000\n",
       "4       0      1    4  10000\n",
       "...   ...    ...  ...    ...\n",
       "8995    2      3  995  10000\n",
       "8996    2      3  996  10000\n",
       "8997    2      3  997  10000\n",
       "8998    2      3  998  10000\n",
       "8999    2      3  999  10000\n",
       "\n",
       "[9000 rows x 4 columns]"
      ]
     },
     "execution_count": 4,
     "metadata": {},
     "output_type": "execute_result"
    }
   ],
   "source": [
    "N_REP = 1000\n",
    "# sample size can also be a parameter of simulation, but set to 1 value for illustration\n",
    "SAMPLE_SIZE = [10_000]\n",
    "locations = [0, 1, 2]\n",
    "scales = [1, 2, 3]\n",
    "\n",
    "params = pd.DataFrame(\n",
    "    list(product(locations, scales, range(N_REP), SAMPLE_SIZE)),\n",
    "    columns=[\"loc\", \"scale\", \"rep\", \"size\"],\n",
    ")\n",
    "params"
   ]
  },
  {
   "cell_type": "markdown",
   "metadata": {},
   "source": [
    "## Simulate datasets\n",
    "\n",
    "For small dataset, we can keep the simulated data sets in the tracking dataframe. If the simulated dataset is large, we only keep the sample statistics in the dataframe."
   ]
  },
  {
   "cell_type": "code",
   "execution_count": 5,
   "metadata": {},
   "outputs": [],
   "source": [
    "def simulate_data_seq(params: pd.DataFrame) -> pd.DataFrame:\n",
    "    rng = np.random.default_rng()\n",
    "\n",
    "    sim_data = pd.DataFrame()\n",
    "    sim_data[\"sample\"] = [\n",
    "        rng.normal(loc=loc, scale=scale, size=size)\n",
    "        for loc, scale, size in zip(params[\"loc\"], params[\"scale\"], params[\"size\"])\n",
    "    ]\n",
    "\n",
    "    return sim_data"
   ]
  },
  {
   "cell_type": "code",
   "execution_count": 6,
   "metadata": {},
   "outputs": [
    {
     "name": "stdout",
     "output_type": "stream",
     "text": [
      "CPU times: user 1.34 s, sys: 177 ms, total: 1.51 s\n",
      "Wall time: 1.52 s\n"
     ]
    }
   ],
   "source": [
    "%%time\n",
    "sim_data_seq = simulate_data_seq(params)"
   ]
  },
  {
   "cell_type": "markdown",
   "metadata": {},
   "source": [
    "## Do stuff with the simulated datasets"
   ]
  },
  {
   "cell_type": "code",
   "execution_count": 7,
   "metadata": {},
   "outputs": [],
   "source": [
    "def calculate_sample_stats(arr: np.ndarray) -> Dict:\n",
    "    \"\"\"calculate sample statistics\"\"\"\n",
    "    average = arr.mean()\n",
    "    variance = arr.var(ddof=1)\n",
    "    p05 = np.quantile(arr, 0.05)\n",
    "    p95 = np.quantile(arr, 0.95)\n",
    "\n",
    "    return {\n",
    "        \"average\": average,\n",
    "        \"variance\": variance,\n",
    "        \"p05\": p05,\n",
    "        \"p95\": p95,\n",
    "    }\n",
    "\n",
    "\n",
    "def compute_seq(df: pd.DataFrame) -> pd.DataFrame:\n",
    "    sample_stats = [calculate_sample_stats(sample) for sample in df[\"sample\"]]\n",
    "\n",
    "    return pd.DataFrame.from_records(sample_stats)"
   ]
  },
  {
   "cell_type": "code",
   "execution_count": 8,
   "metadata": {},
   "outputs": [
    {
     "name": "stdout",
     "output_type": "stream",
     "text": [
      "CPU times: user 3.32 s, sys: 12.3 ms, total: 3.34 s\n",
      "Wall time: 3.34 s\n"
     ]
    }
   ],
   "source": [
    "%%time\n",
    "sample_stats_seq = compute_seq(sim_data_seq)"
   ]
  },
  {
   "cell_type": "markdown",
   "metadata": {},
   "source": [
    "## Keep everything in a dataframe"
   ]
  },
  {
   "cell_type": "code",
   "execution_count": 9,
   "metadata": {},
   "outputs": [
    {
     "data": {
      "text/html": [
       "<div>\n",
       "<style scoped>\n",
       "    .dataframe tbody tr th:only-of-type {\n",
       "        vertical-align: middle;\n",
       "    }\n",
       "\n",
       "    .dataframe tbody tr th {\n",
       "        vertical-align: top;\n",
       "    }\n",
       "\n",
       "    .dataframe thead th {\n",
       "        text-align: right;\n",
       "    }\n",
       "</style>\n",
       "<table border=\"1\" class=\"dataframe\">\n",
       "  <thead>\n",
       "    <tr style=\"text-align: right;\">\n",
       "      <th></th>\n",
       "      <th>loc</th>\n",
       "      <th>scale</th>\n",
       "      <th>rep</th>\n",
       "      <th>size</th>\n",
       "      <th>sample</th>\n",
       "      <th>average</th>\n",
       "      <th>variance</th>\n",
       "      <th>p05</th>\n",
       "      <th>p95</th>\n",
       "    </tr>\n",
       "  </thead>\n",
       "  <tbody>\n",
       "    <tr>\n",
       "      <th>0</th>\n",
       "      <td>0</td>\n",
       "      <td>1</td>\n",
       "      <td>0</td>\n",
       "      <td>10000</td>\n",
       "      <td>[0.319077282511964, 0.18965678964333085, -0.63...</td>\n",
       "      <td>-0.018138</td>\n",
       "      <td>1.000294</td>\n",
       "      <td>-1.665284</td>\n",
       "      <td>1.624925</td>\n",
       "    </tr>\n",
       "    <tr>\n",
       "      <th>1</th>\n",
       "      <td>0</td>\n",
       "      <td>1</td>\n",
       "      <td>1</td>\n",
       "      <td>10000</td>\n",
       "      <td>[1.0530038923608775, 0.6534644477062702, 1.385...</td>\n",
       "      <td>-0.006782</td>\n",
       "      <td>1.008830</td>\n",
       "      <td>-1.632020</td>\n",
       "      <td>1.693900</td>\n",
       "    </tr>\n",
       "    <tr>\n",
       "      <th>2</th>\n",
       "      <td>0</td>\n",
       "      <td>1</td>\n",
       "      <td>2</td>\n",
       "      <td>10000</td>\n",
       "      <td>[0.619682511046317, 0.8076221364639493, -0.212...</td>\n",
       "      <td>-0.003659</td>\n",
       "      <td>0.977135</td>\n",
       "      <td>-1.634407</td>\n",
       "      <td>1.627604</td>\n",
       "    </tr>\n",
       "    <tr>\n",
       "      <th>3</th>\n",
       "      <td>0</td>\n",
       "      <td>1</td>\n",
       "      <td>3</td>\n",
       "      <td>10000</td>\n",
       "      <td>[-0.7515129763643353, -0.8428228923508118, -0....</td>\n",
       "      <td>0.007276</td>\n",
       "      <td>0.994398</td>\n",
       "      <td>-1.652222</td>\n",
       "      <td>1.654156</td>\n",
       "    </tr>\n",
       "    <tr>\n",
       "      <th>4</th>\n",
       "      <td>0</td>\n",
       "      <td>1</td>\n",
       "      <td>4</td>\n",
       "      <td>10000</td>\n",
       "      <td>[-0.3187877346174399, -0.09063484844832305, -0...</td>\n",
       "      <td>0.001544</td>\n",
       "      <td>1.005466</td>\n",
       "      <td>-1.639467</td>\n",
       "      <td>1.663695</td>\n",
       "    </tr>\n",
       "    <tr>\n",
       "      <th>...</th>\n",
       "      <td>...</td>\n",
       "      <td>...</td>\n",
       "      <td>...</td>\n",
       "      <td>...</td>\n",
       "      <td>...</td>\n",
       "      <td>...</td>\n",
       "      <td>...</td>\n",
       "      <td>...</td>\n",
       "      <td>...</td>\n",
       "    </tr>\n",
       "    <tr>\n",
       "      <th>8995</th>\n",
       "      <td>2</td>\n",
       "      <td>3</td>\n",
       "      <td>995</td>\n",
       "      <td>10000</td>\n",
       "      <td>[4.459473155059797, 7.17871505746818, 2.080059...</td>\n",
       "      <td>1.981215</td>\n",
       "      <td>9.112403</td>\n",
       "      <td>-3.050421</td>\n",
       "      <td>6.898461</td>\n",
       "    </tr>\n",
       "    <tr>\n",
       "      <th>8996</th>\n",
       "      <td>2</td>\n",
       "      <td>3</td>\n",
       "      <td>996</td>\n",
       "      <td>10000</td>\n",
       "      <td>[1.3252498963188968, -7.932355926994303, 5.374...</td>\n",
       "      <td>1.984005</td>\n",
       "      <td>8.874890</td>\n",
       "      <td>-3.008920</td>\n",
       "      <td>6.929186</td>\n",
       "    </tr>\n",
       "    <tr>\n",
       "      <th>8997</th>\n",
       "      <td>2</td>\n",
       "      <td>3</td>\n",
       "      <td>997</td>\n",
       "      <td>10000</td>\n",
       "      <td>[-5.566903275579494, 4.783448759876334, -1.454...</td>\n",
       "      <td>1.999839</td>\n",
       "      <td>8.816550</td>\n",
       "      <td>-2.910886</td>\n",
       "      <td>6.922024</td>\n",
       "    </tr>\n",
       "    <tr>\n",
       "      <th>8998</th>\n",
       "      <td>2</td>\n",
       "      <td>3</td>\n",
       "      <td>998</td>\n",
       "      <td>10000</td>\n",
       "      <td>[4.783361765266323, 0.06270761044701434, 6.484...</td>\n",
       "      <td>2.014064</td>\n",
       "      <td>8.844529</td>\n",
       "      <td>-2.876956</td>\n",
       "      <td>6.945541</td>\n",
       "    </tr>\n",
       "    <tr>\n",
       "      <th>8999</th>\n",
       "      <td>2</td>\n",
       "      <td>3</td>\n",
       "      <td>999</td>\n",
       "      <td>10000</td>\n",
       "      <td>[3.597228274125008, 1.7495518614255168, 6.9812...</td>\n",
       "      <td>1.958327</td>\n",
       "      <td>8.951227</td>\n",
       "      <td>-2.915028</td>\n",
       "      <td>6.874206</td>\n",
       "    </tr>\n",
       "  </tbody>\n",
       "</table>\n",
       "<p>9000 rows × 9 columns</p>\n",
       "</div>"
      ],
      "text/plain": [
       "      loc  scale  rep   size  \\\n",
       "0       0      1    0  10000   \n",
       "1       0      1    1  10000   \n",
       "2       0      1    2  10000   \n",
       "3       0      1    3  10000   \n",
       "4       0      1    4  10000   \n",
       "...   ...    ...  ...    ...   \n",
       "8995    2      3  995  10000   \n",
       "8996    2      3  996  10000   \n",
       "8997    2      3  997  10000   \n",
       "8998    2      3  998  10000   \n",
       "8999    2      3  999  10000   \n",
       "\n",
       "                                                 sample   average  variance  \\\n",
       "0     [0.319077282511964, 0.18965678964333085, -0.63... -0.018138  1.000294   \n",
       "1     [1.0530038923608775, 0.6534644477062702, 1.385... -0.006782  1.008830   \n",
       "2     [0.619682511046317, 0.8076221364639493, -0.212... -0.003659  0.977135   \n",
       "3     [-0.7515129763643353, -0.8428228923508118, -0....  0.007276  0.994398   \n",
       "4     [-0.3187877346174399, -0.09063484844832305, -0...  0.001544  1.005466   \n",
       "...                                                 ...       ...       ...   \n",
       "8995  [4.459473155059797, 7.17871505746818, 2.080059...  1.981215  9.112403   \n",
       "8996  [1.3252498963188968, -7.932355926994303, 5.374...  1.984005  8.874890   \n",
       "8997  [-5.566903275579494, 4.783448759876334, -1.454...  1.999839  8.816550   \n",
       "8998  [4.783361765266323, 0.06270761044701434, 6.484...  2.014064  8.844529   \n",
       "8999  [3.597228274125008, 1.7495518614255168, 6.9812...  1.958327  8.951227   \n",
       "\n",
       "           p05       p95  \n",
       "0    -1.665284  1.624925  \n",
       "1    -1.632020  1.693900  \n",
       "2    -1.634407  1.627604  \n",
       "3    -1.652222  1.654156  \n",
       "4    -1.639467  1.663695  \n",
       "...        ...       ...  \n",
       "8995 -3.050421  6.898461  \n",
       "8996 -3.008920  6.929186  \n",
       "8997 -2.910886  6.922024  \n",
       "8998 -2.876956  6.945541  \n",
       "8999 -2.915028  6.874206  \n",
       "\n",
       "[9000 rows x 9 columns]"
      ]
     },
     "execution_count": 9,
     "metadata": {},
     "output_type": "execute_result"
    }
   ],
   "source": [
    "pd.concat([params, sim_data_seq, sample_stats_seq], axis=\"columns\")"
   ]
  },
  {
   "cell_type": "markdown",
   "metadata": {},
   "source": [
    "## Parallel computation\n",
    "\n",
    "We may be able to speed up the simulation and computation using parallel computation, e.g., multiprocessing, multithreading, or other packages, depending on whether the bottlenecks are the I/O, memory, cache, or CPU.\n",
    "\n",
    "Below is an example of multiprocessing. A few notes when using multiprocessing in Python.\n",
    "\n",
    "- Depending on the size of the datasets, number of datasets, and how cpu-hungry the computations are, multiprocessing may not perform better than sequential processing. In my working example, multiprocessing did not improve performance. In my real simulation work with heavier computations, multiprocessing does help.\n",
    "- We need to change the simulation function a little in terms how it takes in arguments, to facilitate the `map` function.\n",
    "- Chunksize may be a factor for performance.\n",
    "- `Numpy`, `Scipy`, and `Pandas` scientific computing packages may not play well with multiprocessing. Read more [here](https://stackoverflow.com/a/15641148/3101585)."
   ]
  },
  {
   "cell_type": "code",
   "execution_count": 10,
   "metadata": {},
   "outputs": [
    {
     "data": {
      "text/plain": [
       "1125"
      ]
     },
     "execution_count": 10,
     "metadata": {},
     "output_type": "execute_result"
    }
   ],
   "source": [
    "CHUNKSIZE = int(params.shape[0] / (n_cores / 2))\n",
    "CHUNKSIZE"
   ]
  },
  {
   "cell_type": "code",
   "execution_count": 11,
   "metadata": {},
   "outputs": [],
   "source": [
    "def simulate_data(params: Dict) -> np.ndarray:\n",
    "    loc = params[\"loc\"]  # float\n",
    "    scale = params[\"scale\"]  # float\n",
    "    size = params[\"size\"]  # int\n",
    "\n",
    "    # be sure to reseed the RNG\n",
    "    # see discussions here: https://github.com/numpy/numpy/issues/9650\n",
    "    rng = np.random.default_rng()\n",
    "\n",
    "    return rng.normal(loc=loc, scale=scale, size=size)\n",
    "\n",
    "\n",
    "def simulate_data_mp(params: List) -> Dict:\n",
    "\n",
    "    params_list = params.to_dict(orient=\"records\")\n",
    "    sim_data = pd.DataFrame()\n",
    "\n",
    "    with concurrent.futures.ProcessPoolExecutor() as executor:\n",
    "        sim_data[\"sample\"] = list(\n",
    "            executor.map(simulate_data, params_list, chunksize=CHUNKSIZE)\n",
    "        )\n",
    "\n",
    "    return sim_data"
   ]
  },
  {
   "cell_type": "code",
   "execution_count": 12,
   "metadata": {},
   "outputs": [
    {
     "name": "stdout",
     "output_type": "stream",
     "text": [
      "CPU times: user 619 ms, sys: 4.15 s, total: 4.77 s\n",
      "Wall time: 6.22 s\n"
     ]
    }
   ],
   "source": [
    "%%time\n",
    "sim_data_mp = simulate_data_mp(params)"
   ]
  },
  {
   "cell_type": "code",
   "execution_count": 13,
   "metadata": {},
   "outputs": [],
   "source": [
    "def compute_mp(df: pd.DataFrame) -> pd.DataFrame:\n",
    "    with concurrent.futures.ProcessPoolExecutor() as executor:\n",
    "        sample_stats = list(\n",
    "            executor.map(calculate_sample_stats, df[\"sample\"], chunksize=CHUNKSIZE)\n",
    "        )\n",
    "\n",
    "    return pd.DataFrame.from_records(sample_stats)"
   ]
  },
  {
   "cell_type": "code",
   "execution_count": 14,
   "metadata": {},
   "outputs": [
    {
     "name": "stdout",
     "output_type": "stream",
     "text": [
      "CPU times: user 403 ms, sys: 683 ms, total: 1.09 s\n",
      "Wall time: 5.13 s\n"
     ]
    }
   ],
   "source": [
    "%%time\n",
    "sample_stats_mp = compute_mp(sim_data_seq)"
   ]
  }
 ],
 "metadata": {
  "bento_stylesheets": {
   "bento/extensions/flow/main.css": true,
   "bento/extensions/kernel_selector/main.css": true,
   "bento/extensions/kernel_ui/main.css": true,
   "bento/extensions/new_kernel/main.css": true,
   "bento/extensions/system_usage/main.css": true,
   "bento/extensions/theme/main.css": true
  },
  "kernelspec": {
   "display_name": "Python 3",
   "language": "python",
   "name": "python3"
  },
  "language_info": {
   "codemirror_mode": {
    "name": "ipython",
    "version": 3
   },
   "file_extension": ".py",
   "mimetype": "text/x-python",
   "name": "python",
   "nbconvert_exporter": "python",
   "pygments_lexer": "ipython3",
   "version": "3.7.8"
  },
  "toc": {
   "base_numbering": 1,
   "nav_menu": {},
   "number_sections": true,
   "sideBar": true,
   "skip_h1_title": false,
   "title_cell": "Table of Contents",
   "title_sidebar": "Contents",
   "toc_cell": false,
   "toc_position": {},
   "toc_section_display": true,
   "toc_window_display": true
  },
  "toc-autonumbering": false,
  "toc-showtags": false,
  "varInspector": {
   "cols": {
    "lenName": 16,
    "lenType": 16,
    "lenVar": 40
   },
   "kernels_config": {
    "python": {
     "delete_cmd_postfix": "",
     "delete_cmd_prefix": "del ",
     "library": "var_list.py",
     "varRefreshCmd": "print(var_dic_list())"
    },
    "r": {
     "delete_cmd_postfix": ") ",
     "delete_cmd_prefix": "rm(",
     "library": "var_list.r",
     "varRefreshCmd": "cat(var_dic_list()) "
    }
   },
   "types_to_exclude": [
    "module",
    "function",
    "builtin_function_or_method",
    "instance",
    "_Feature"
   ],
   "window_display": false
  }
 },
 "nbformat": 4,
 "nbformat_minor": 4
}
